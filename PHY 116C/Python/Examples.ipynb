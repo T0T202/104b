{
 "cells": [
  {
   "cell_type": "code",
   "execution_count": null,
   "id": "62c10564-abd9-42f6-afc7-a7ce5bba0945",
   "metadata": {},
   "outputs": [],
   "source": [
    "#\n",
    "# Just some examples and basic structure\n",
    "#"
   ]
  },
  {
   "cell_type": "code",
   "execution_count": null,
   "id": "5422d648-7ceb-4468-91ff-f993039081aa",
   "metadata": {},
   "outputs": [],
   "source": [
    "# Basic math\n",
    "x = 1\n",
    "y = 2\n",
    "print(x+y)"
   ]
  },
  {
   "cell_type": "code",
   "execution_count": null,
   "id": "e7f897de-2cfd-4bd9-bd72-a51a1b72cd8d",
   "metadata": {},
   "outputs": [],
   "source": [
    "# Structures are controlled by indentation!\n",
    "if (x==y):\n",
    "    print(\"x is equal to y\")\n",
    "else:\n",
    "    print(\"x is not equal to y\")\n",
    "    \n",
    "for i in range(0,10):\n",
    "    print(i)        "
   ]
  },
  {
   "cell_type": "code",
   "execution_count": null,
   "id": "11e25160-27b7-4c71-ad71-e898ff88ef76",
   "metadata": {},
   "outputs": [],
   "source": [
    "# Python has native array structures, but the numpy package expands on them with\n",
    "# very powerful tools for creating and manipulating arrays\n",
    "# Must first import the module\n",
    "import numpy as np   # import the module and call it np\n",
    "#\n",
    "# Some examples\n",
    "a = np.array([0.,1.,2.,3.,5.])     # create an array\n",
    "b = a**2                           # do a piecewise square\n",
    "print(b)\n",
    "c = a*b                            # do a dot product\n",
    "print(c)                           \n",
    "d = np.sin(a)                      # take the sine of each element\n",
    "print(d)"
   ]
  },
  {
   "cell_type": "code",
   "execution_count": null,
   "id": "7ea1f92b-18a6-4c5f-b939-e724cbf22c86",
   "metadata": {},
   "outputs": [],
   "source": [
    "# Note!  The numpy module duplicates many of the functions in the math module, but the latter can't work with arrays\n",
    "import math\n",
    "# These two will give the same answer\n",
    "print(math.sin(1.))\n",
    "print(np.sin(1.))\n",
    "# This will only work with the numpy version\n",
    "print(np.sin(a))   "
   ]
  },
  {
   "cell_type": "code",
   "execution_count": null,
   "id": "fe88afd4-d684-46b4-b0da-e582236d8ff9",
   "metadata": {},
   "outputs": [],
   "source": [
    "# Accessing individual elements\n",
    "print(a[0],b[2],c[3],d[1:3])"
   ]
  },
  {
   "cell_type": "code",
   "execution_count": null,
   "id": "100cf47c-3f6f-43ac-bf2b-3856af8e9b9d",
   "metadata": {},
   "outputs": [],
   "source": [
    "# elevating a sub-method\n",
    "from numpy import sin\n",
    "e = sin(a)\n",
    "print(e)"
   ]
  },
  {
   "cell_type": "code",
   "execution_count": null,
   "id": "6a7e1382-1c24-4517-8613-000d339329eb",
   "metadata": {},
   "outputs": [],
   "source": [
    "# multi-dimensional arrays\n",
    "c = np.array([[5,4,3,2.,1],[1,2,3.,4,5]])\n",
    "print(c)\n",
    "print(c[1][2])\n",
    "print(c[1])\n",
    "             "
   ]
  },
  {
   "cell_type": "code",
   "execution_count": null,
   "id": "08e4a038-c416-4cb1-b2e2-f04916e7d9cc",
   "metadata": {},
   "outputs": [],
   "source": [
    "# Getting at properties of arrays\n",
    "print('a = ',a)\n",
    "print('c = ',c)\n",
    "# size: total size\n",
    "print(a.size,c.size)\n",
    "# len(): length of one dimension\n",
    "print(len(a),len(c),len(c[0]))\n",
    "# shape: the structure of the array\n",
    "print(a.shape,c.shape)"
   ]
  },
  {
   "cell_type": "code",
   "execution_count": null,
   "id": "feb15e20-3380-4b71-8380-7d68cec09a5b",
   "metadata": {},
   "outputs": [],
   "source": [
    "# Defining and calling functions\n",
    "# We define a factorial function.  Grouping is again done by indentation!\n",
    "def fact(n):\n",
    "    ans = 1\n",
    "    for i in range(2,n+1):    # This will loop from 2 to n\n",
    "        ans = ans*i           # multiply it by itself each time\n",
    "    return ans                # return result"
   ]
  },
  {
   "cell_type": "code",
   "execution_count": null,
   "id": "064c4646-b0ac-44a8-996b-628111c8d428",
   "metadata": {},
   "outputs": [],
   "source": [
    "x=fact(5)  # Or I can load it into a variable\n",
    "print(x)"
   ]
  },
  {
   "cell_type": "code",
   "execution_count": null,
   "id": "33c53e81-6bf3-4975-a3ba-3b41485750b5",
   "metadata": {},
   "outputs": [],
   "source": [
    "# Using routines from another file\n",
    "import mylib   # This will load mylib.py\n",
    "x,y = mylib.mysub(3,4)\n",
    "print(x,y)\n",
    "from mylib import mysub\n",
    "x,y = mysub(5,6)\n",
    "print(x,y)"
   ]
  },
  {
   "cell_type": "code",
   "execution_count": null,
   "id": "be557aa7-ed2e-40a8-a1f7-89d67c6024c5",
   "metadata": {},
   "outputs": [],
   "source": []
  }
 ],
 "metadata": {
  "kernelspec": {
   "display_name": "Python 3 (ipykernel)",
   "language": "python",
   "name": "python3"
  },
  "language_info": {
   "codemirror_mode": {
    "name": "ipython",
    "version": 3
   },
   "file_extension": ".py",
   "mimetype": "text/x-python",
   "name": "python",
   "nbconvert_exporter": "python",
   "pygments_lexer": "ipython3",
   "version": "3.10.4"
  }
 },
 "nbformat": 4,
 "nbformat_minor": 5
}
