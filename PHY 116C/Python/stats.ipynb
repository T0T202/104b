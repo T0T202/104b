{
 "cells": [
  {
   "cell_type": "code",
   "execution_count": null,
   "metadata": {},
   "outputs": [],
   "source": [
    "# An example of some of the basic statistical functionality of Python\n",
    "# This will demonstrate a uniform, normal, and bynomial distribution"
   ]
  },
  {
   "cell_type": "code",
   "execution_count": 1,
   "metadata": {},
   "outputs": [],
   "source": [
    "# Boilerplate\n",
    "%matplotlib inline\n",
    "import scipy\n",
    "import numpy as np\n",
    "import matplotlib.pyplot as plt"
   ]
  },
  {
   "cell_type": "code",
   "execution_count": 2,
   "metadata": {},
   "outputs": [],
   "source": [
    "# Initialize the random seed.  As long as this remainst the same, the output will remain the same\n",
    "np.random.seed(57884776)"
   ]
  },
  {
   "cell_type": "code",
   "execution_count": 3,
   "metadata": {},
   "outputs": [
    {
     "name": "stdout",
     "output_type": "stream",
     "text": [
      "s=  [0.58798606 0.41969041 0.22327461 0.19860196 0.2643132  0.75951322\n",
      " 0.69684888 0.43021883 0.62498915 0.95161756]\n",
      "bins=  [0.   0.01 0.02 0.03 0.04 0.05 0.06 0.07 0.08 0.09]\n",
      "hist=  [ 9910. 10028. 10006.  9892. 10023.  9914.  9925. 10064.  9891.  9874.]\n",
      "Average contents =  10000.0\n",
      "Standard deviation =  95.77943411818636\n"
     ]
    },
    {
     "data": {
      "image/png": "[encoded data removed]",
      "text/plain": [
       "<Figure size 432x288 with 1 Axes>"
      ]
     },
     "metadata": {
      "needs_background": "light"
     },
     "output_type": "display_data"
    }
   ],
   "source": [
    "# Uniform distribution of N events from min to max\n",
    "min=0.\n",
    "max=1.\n",
    "N=1000000\n",
    "nbins=100  # Number of histogram bins\n",
    "s = np.random.uniform(min,max,N)  # generate a uniform array of values\n",
    "print('s= ',s[:10])  #Print 1st 10 values\n",
    "# Build a histogram.  There are more versatile ways to do this, but we're using the simplest\n",
    "h = plt.hist(s,nbins,(min,max))  # Make a histogram of the values.  Returns a 2D array with contents and bin locations\n",
    "# print the lower bin boundary and the values\n",
    "print('bins= ',h[1][:10])\n",
    "print('hist= ',h[0][:10])\n",
    "print('Average contents = ',h[0].mean())   # Average value IN the bins\n",
    "print('Standard deviation = ',h[0].std())  # Std deviation values in the bins"
   ]
  },
  {
   "cell_type": "code",
   "execution_count": 4,
   "metadata": {},
   "outputs": [
    {
     "name": "stdout",
     "output_type": "stream",
     "text": [
      "s=  [14.18817066 10.36042597  6.1621874   7.77367835  7.54480463  9.21880793\n",
      " 10.98498819  5.37112781  9.92896331 10.47698885]\n",
      "Average contents =  10.004003235662344\n",
      "Standard deviation =  1.9999803259742117\n"
     ]
    },
    {
     "data": {
      "image/png": "[encoded data removed]",
      "text/plain": [
       "<Figure size 432x288 with 1 Axes>"
      ]
     },
     "metadata": {
      "needs_background": "light"
     },
     "output_type": "display_data"
    }
   ],
   "source": [
    "# Normal distribution of N events with specified mean and sigma\n",
    "mean = 10.\n",
    "sigma = 2.\n",
    "N=1000000\n",
    "nbins=100\n",
    "s = np.random.normal(mean,sigma,N)  # Generate a normal distribution \n",
    "print('s= ',s[:10])  #Print 1st 10 values\n",
    "# Build a histogram\n",
    "h = plt.hist(s,nbins,(mean-5.*sigma,mean+5.*sigma))  #  with boundaries of + and - 5 sigma\n",
    "# print the lower bin boundary and the values\n",
    "print('Average contents = ',s.mean())\n",
    "print('Standard deviation = ',s.std())\n"
   ]
  },
  {
   "cell_type": "code",
   "execution_count": null,
   "metadata": {},
   "outputs": [],
   "source": [
    "# Binomial Distribution with probability p and N throws\n",
    "p = 1/2       # probability\n",
    "N=10     # number of throws\n",
    "ntrial=100000  # number of times to repeat the experiment\n",
    "s = np.random.binomial(N,p,ntrial)  # Generate a normal distribution with an RMS of 1 and a mean of zero\n",
    "# Build a histogram\n",
    "h = plt.hist(s,N+1,(0,N+1))  #  Needs to go to N+1.  Why?\n",
    "# Add some labels\n",
    "plt.xlabel(\"n\")\n",
    "plt.ylabel(\"P\")\n",
    "plt.title(\"Binomial Distribution, p=%3.2f, N=%d, ntrial=%d\"%(p,N,ntrial))\n",
    "# print the lower bin boundary and the values\n",
    "print('Average contents = ',s.mean())\n",
    "print('Standard deviation = ',s.std())\n",
    "print('Standard devation/N = ',s.std()/N)\n"
   ]
  },
  {
   "cell_type": "code",
   "execution_count": null,
   "metadata": {},
   "outputs": [],
   "source": [
    "# Normalized probability\n",
    "p = 1/6       # probability of one die\n",
    "N=3           # number of throws\n",
    "lam=p*N       # Average value\n",
    "ntrial=100000  # number of times to repeat the experiment\n",
    "s = np.random.binomial(N,p,ntrial)  # Generate a normal distribution with an RMS of 1 and a mean of zero\n",
    "# Build a histogram.\n",
    "# Normaliize (density=True)\n",
    "# step function (histtype = 'step'\n",
    "h = plt.hist(s,N+1,(0,N+1),density=True,align='mid',histtype='step')  #  desity = True divides by the total to get a total probability of 1\n",
    "bins=h[1]  # get at the bins\n",
    "hist=h[0]  # get at the contnts\n",
    "plt.xlabel(\"n\")\n",
    "plt.ylabel(\"P\")\n",
    "plt.title(\"Binomial Distribution, p=%3.2f, N=%d, ntrial=%d\"%(p,N,ntrial))\n",
    "# dump the first few bins\n",
    "print('Hist values = ',hist[:10])\n",
    "print(\"Predicted average = %.4f\"%(lam))\n",
    "print(\"Measured average = %.4f\"%(s.mean()))\n",
    "print(\"Predicted standard deviation = %.4f\"%(np.sqrt(lam*(1-p))))\n",
    "print(\"Measured standard deviation = %.4f\"%(s.std()))\n",
    "print('Standard devation/N = ',s.std()/N)\n"
   ]
  },
  {
   "cell_type": "code",
   "execution_count": null,
   "metadata": {},
   "outputs": [],
   "source": [
    "# Normalized probability with distributions\n",
    "p = 1/6       # probability of one die\n",
    "N=3           # number of throws\n",
    "lam=p*N       # Average value\n",
    "ntrial=100000  # number of times to repeat the experiment\n",
    "s = np.random.binomial(N,p,ntrial)  # Generate a normal distribution with an RMS of 1 and a mean of zero\n",
    "# Build a histogram.\n",
    "# Normaliize (density=True)\n",
    "# step function (histtype = 'step'\n",
    "h = plt.hist(s,N+1,(0,N+1),density=True,align='mid',histtype='step')  #  desity = True divides by the total to get a total probability of 1\n",
    "bins=h[1]  # get at the bins\n",
    "hist=h[0]  # get at the contents\n",
    "plt.xlabel(\"n\")\n",
    "plt.ylabel(\"P\")\n",
    "plt.title(\"Binomial Distribution, p=%.4f, N=%d, lam=%.1f, ntrial=%d\"%(p,N,lam,ntrial))\n",
    "# dump the first few bins\n",
    "print('Hist values = ',hist[:10])\n",
    "print(\"Predicted average = %.4f\"%(lam))\n",
    "print(\"Measured average = %.4f\"%(s.mean()))\n",
    "print(\"Predicted standard deviation = %.4f\"%(np.sqrt(lam*(1-p))))\n",
    "print(\"Measured standard deviation = %.4f\"%(s.std()))\n",
    "print('Standard devation/N = ',s.std()/N)\n",
    "from scipy import stats\n",
    "pred1=stats.poisson.pmf(bins,lam)\n",
    "plt.plot(bins+.5,pred1,\"b.--\", label=\"poisson\", ms=10)\n",
    "pred2=stats.norm.pdf(bins,loc=lam,scale=np.sqrt(lam*(1-p)))\n",
    "plt.plot(bins+.5,pred2,\"g.--\", label=\"normal\",ms=10)\n",
    "plt.legend()\n"
   ]
  }
 ],
 "metadata": {
  "kernelspec": {
   "display_name": "Python 3 (ipykernel)",
   "language": "python",
   "name": "python3"
  },
  "language_info": {
   "codemirror_mode": {
    "name": "ipython",
    "version": 3
   },
   "file_extension": ".py",
   "mimetype": "text/x-python",
   "name": "python",
   "nbconvert_exporter": "python",
   "pygments_lexer": "ipython3",
   "version": "3.9.7"
  }
 },
 "nbformat": 4,
 "nbformat_minor": 4
}
