{
 "cells": [
  {
   "cell_type": "code",
   "execution_count": 9,
   "id": "c9665c9a",
   "metadata": {},
   "outputs": [],
   "source": [
    "import scipy \n",
    "from scipy import optimize\n",
    "import numpy as np\n",
    "import matplotlib.pyplot as plt"
   ]
  },
  {
   "cell_type": "code",
   "execution_count": 10,
   "id": "db58e3b8",
   "metadata": {},
   "outputs": [
    {
     "name": "stdout",
     "output_type": "stream",
     "text": [
      "Mean:  6.333333333333333\n",
      "Standard deviation:  1.7384539747207064\n"
     ]
    },
    {
     "data": {
      "image/png": "[encoded data removed]",
      "text/plain": [
       "<Figure size 432x288 with 1 Axes>"
      ]
     },
     "metadata": {
      "needs_background": "light"
     },
     "output_type": "display_data"
    }
   ],
   "source": [
    "val = np.array([4,4,5,6,7,9,6,5,6,9,6,10,5,7,6])\n",
    "\n",
    "hist = plt.hist(val, 9, (0, 10))\n",
    "\n",
    "print(\"Mean: \", np.mean(val))\n",
    "print(\"Standard deviation: \", np.std(val))"
   ]
  },
  {
   "cell_type": "code",
   "execution_count": 11,
   "id": "e43971f1",
   "metadata": {},
   "outputs": [
    {
     "name": "stdout",
     "output_type": "stream",
     "text": [
      "best fit value of a:   -1.9142857142920717\n",
      "best fit value of b:   21.533333333380302\n"
     ]
    },
    {
     "data": {
      "image/png": "[encoded data removed]",
      "text/plain": [
       "<Figure size 432x288 with 1 Axes>"
      ]
     },
     "metadata": {
      "needs_background": "light"
     },
     "output_type": "display_data"
    }
   ],
   "source": [
    "x_list = np.array([1, 2, 3, 4, 5, 6])\n",
    "y_list = np.array([20, 17, 16, 15, 10, 11])\n",
    "y_err = np.array([1, 1, 1, 1, 1, 1])\n",
    "\n",
    "#Plotting x vs. y with error bar\n",
    "plt.errorbar(x_list, y_list,yerr=y_err,fmt=\"ko\",label=\"data\")\n",
    "\n",
    "#Linear fit function\n",
    "def line_func(x, a, b):\n",
    "    return x*a+b\n",
    "\n",
    "guess_a = 1.0\n",
    "guess_b = 0.0\n",
    "par, cov = optimize.curve_fit(line_func, x_list, y_list, \n",
    "                              p0=[guess_a, guess_b],sigma=y_err) \n",
    "\n",
    "fit_a = par[0]\n",
    "fit_b = par[1]\n",
    "print(\"best fit value of a:  \", fit_a)\n",
    "print(\"best fit value of b:  \", fit_b)\n",
    "\n",
    "xf    = np.linspace(0.0,6.0,100)\n",
    "yf    = fit_b + fit_a * xf\n",
    "plt.plot(xf,yf,\"b--\",label=\"line fit\")\n",
    "\n",
    "plt.xlabel(\"x\")\n",
    "plt.ylabel(\"y\")\n",
    "plt.legend()\n",
    "plt.show()\n"
   ]
  },
  {
   "cell_type": "code",
   "execution_count": 12,
   "id": "71d9a76c",
   "metadata": {},
   "outputs": [
    {
     "name": "stdout",
     "output_type": "stream",
     "text": [
      "best fit value of a:   -1.6962962963021764\n",
      "best fit value of b:   21.194238683173804\n"
     ]
    },
    {
     "data": {
      "image/png": "[encoded data removed]",
      "text/plain": [
       "<Figure size 432x288 with 1 Axes>"
      ]
     },
     "metadata": {
      "needs_background": "light"
     },
     "output_type": "display_data"
    }
   ],
   "source": [
    "x_list = np.array([1, 2, 3, 4, 5, 6])\n",
    "y_list = np.array([20, 17, 16, 15, 10, 11])\n",
    "y_err = np.array([1, 1, 1, 1, 4, 1])\n",
    "\n",
    "#Plotting x vs. y with error bar\n",
    "plt.errorbar(x_list, y_list,yerr=y_err,fmt=\"ko\",label=\"data\")\n",
    "\n",
    "#Linear fit function\n",
    "def line_func(x, a, b):\n",
    "    return x*a+b\n",
    "\n",
    "guess_a = 1.0\n",
    "guess_b = 0.0\n",
    "par, cov = optimize.curve_fit(line_func, x_list, y_list, \n",
    "                              p0=[guess_a, guess_b],sigma=y_err) \n",
    "\n",
    "fit_a = par[0]\n",
    "fit_b = par[1]\n",
    "print(\"best fit value of a:  \", fit_a)\n",
    "print(\"best fit value of b:  \", fit_b)\n",
    "\n",
    "xf    = np.linspace(0.0,6.0,100)\n",
    "yf    = fit_b + fit_a * xf\n",
    "plt.plot(xf,yf,\"b--\",label=\"line fit\")\n",
    "\n",
    "plt.xlabel(\"x\")\n",
    "plt.ylabel(\"y\")\n",
    "plt.legend()\n",
    "plt.show()\n"
   ]
  },
  {
   "cell_type": "code",
   "execution_count": null,
   "id": "6d29295d",
   "metadata": {},
   "outputs": [],
   "source": []
  }
 ],
 "metadata": {
  "kernelspec": {
   "display_name": "Python 3 (ipykernel)",
   "language": "python",
   "name": "python3"
  },
  "language_info": {
   "codemirror_mode": {
    "name": "ipython",
    "version": 3
   },
   "file_extension": ".py",
   "mimetype": "text/x-python",
   "name": "python",
   "nbconvert_exporter": "python",
   "pygments_lexer": "ipython3",
   "version": "3.9.7"
  }
 },
 "nbformat": 4,
 "nbformat_minor": 5
}
