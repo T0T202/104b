{
 "cells": [
  {
   "cell_type": "code",
   "execution_count": 1,
   "metadata": {},
   "outputs": [],
   "source": [
    "# Test notebook to make sure jupyter installation worked and required modules are installed.\n",
    "# If it runs correctly, it should produce a plot of a set of points with error bars, along with the best linear fit\n",
    "# 27-APR-2022   E. Prebys  Original, based on code from M. Mulhearn"
   ]
  },
  {
   "cell_type": "code",
   "execution_count": null,
   "metadata": {},
   "outputs": [],
   "source": [
    "# This is the boilerplate that should go at the header of every file\n",
    "# This set of lines emulates the now deprectated '%scipy inline' from older example notebooks\n",
    "import numpy as np  # imports the numpy module and calls it np\n",
    "import scipy        # import the scipy module\n",
    "import matplotlib.pyplot as plt  # to be compatible with older code that used %scipy inline"
   ]
  },
  {
   "cell_type": "code",
   "execution_count": null,
   "metadata": {},
   "outputs": [],
   "source": [
    "from scipy import optimize\n",
    "\n",
    "# define the fitting function, in this case, a straight line:\n",
    "# return y = a*x + b for parameters a and b\n",
    "def line_func(x, a, b):\n",
    "    return x*a+b\n",
    "\n",
    "# fill np arrays with the data to be fit:\n",
    "x_data = np.array([1.0, 2.0, 3.0, 4.0, 5.0, 6.0])\n",
    "y_data = np.array([21.5, 24.5, 30.1, 40.2, 37.4, 57.2])\n",
    "y_unc  = np.array([3.0, 3.0, 3.0, 3.0, 3.0, 3.0])\n",
    "\n",
    "# plot the raw data\n",
    "plt.errorbar(x_data, y_data,yerr=y_unc,fmt=\"ko\",label=\"data\")\n",
    "\n",
    "# calculate best fit curve (line_func) for the x_data and y_data\n",
    "# guess_a and guess_b are initial guesses for the parameter values\n",
    "guess_a = 1.0\n",
    "guess_b = 0.0\n",
    "par, cov = optimize.curve_fit(line_func, x_data, y_data, \n",
    "                              p0=[guess_a, guess_b],sigma=y_unc)  # include error\n",
    "# retrieve and print the fitted values of a and b:\n",
    "fit_a = par[0]\n",
    "fit_b = par[1]\n",
    "print(\"best fit value of a:  \", fit_a)\n",
    "print(\"best fit value of b:  \", fit_b)\n",
    "\n",
    "# plot the best fit line:\n",
    "xf    = np.linspace(0.0,6.0,100)\n",
    "yf    = fit_b + fit_a * xf\n",
    "plt.plot(xf,yf,\"b--\",label=\"line fit\")\n",
    "plt.xlabel(\"x\")\n",
    "plt.ylabel(\"y\")\n",
    "plt.legend()\n"
   ]
  },
  {
   "cell_type": "code",
   "execution_count": null,
   "metadata": {},
   "outputs": [],
   "source": []
  }
 ],
 "metadata": {
  "kernelspec": {
   "display_name": "Python 3 (ipykernel)",
   "language": "python",
   "name": "python3"
  },
  "language_info": {
   "codemirror_mode": {
    "name": "ipython",
    "version": 3
   },
   "file_extension": ".py",
   "mimetype": "text/x-python",
   "name": "python",
   "nbconvert_exporter": "python",
   "pygments_lexer": "ipython3",
   "version": "3.9.7"
  }
 },
 "nbformat": 4,
 "nbformat_minor": 4
}
